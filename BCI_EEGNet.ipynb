{
 "cells": [
  {
   "cell_type": "markdown",
   "id": "7649b53f-730e-4869-a68d-cd4fd44f9b26",
   "metadata": {},
   "source": [
    "This python code analyzes BCI Competition IV 2a with EEGNet by collecting epochs with mne module. It is necessary with installing numpy, mne, torch."
   ]
  },
  {
   "cell_type": "code",
   "execution_count": 3,
   "id": "d9682e7c-6d45-4d98-a928-5254b2268526",
   "metadata": {},
   "outputs": [],
   "source": [
    "import mne\n",
    "import numpy as np\n",
    "import torch\n",
    "\n",
    "import torch.nn as nn\n",
    "import torch.nn.functional as F\n",
    "from torch.utils.data import Dataset, DataLoader\n",
    "from torch.utils.data.sampler import SubsetRandomSampler\n"
   ]
  },
  {
   "cell_type": "markdown",
   "id": "d79d69db-24ad-4b88-b257-e335505c7d8b",
   "metadata": {},
   "source": [
    "Collect Channel & EOG Names"
   ]
  },
  {
   "cell_type": "code",
   "execution_count": 4,
   "id": "0ae115b1-995e-48d9-a16a-ccd5bcfe62f4",
   "metadata": {},
   "outputs": [],
   "source": [
    "ch_names = ['Fz', 'FC3', 'FC1', 'FCz', 'FC2', 'FC4', 'C5', 'C3', 'C1', 'Cz', 'C2', 'C4', 'C6',\n",
    "            'CP3', 'CP1', 'CPz', 'CP2', 'CP4', 'P1', 'Pz', 'P2', 'POz']\n",
    "\n",
    "eog_names = ['EOG-left', 'EOG-central', 'EOG-right']\n"
   ]
  },
  {
   "cell_type": "markdown",
   "id": "e47077c6-2dc4-4aed-8364-254a90533feb",
   "metadata": {},
   "source": [
    "Load EEG file with mne module. But, the mne module cannot read the names of channels"
   ]
  },
  {
   "cell_type": "code",
   "execution_count": null,
   "id": "f3157728-7f56-4080-b2ac-640532a67b37",
   "metadata": {},
   "outputs": [],
   "source": [
    "file_path = '<type_your_path>/A01E.gdf'\n",
    "raw = mne.io.read_raw_gdf(file_path, preload=True, eog=eog_names)\n",
    "raw.info"
   ]
  },
  {
   "cell_type": "markdown",
   "id": "81973007-0013-4518-b778-4fd4f4b8d396",
   "metadata": {},
   "source": [
    "Therefore, insert channel's name individually"
   ]
  },
  {
   "cell_type": "code",
   "execution_count": null,
   "id": "828da76b-228f-48ed-b672-96a6371ec2b0",
   "metadata": {},
   "outputs": [],
   "source": [
    "mapping = {'EEG-Fz': 'Fz',\n",
    "           'EEG-0': 'FC3',\n",
    "           'EEG-1': 'FC1',\n",
    "           'EEG-2': 'FCz',\n",
    "           'EEG-3': 'FC2',\n",
    "           'EEG-4': 'F4',\n",
    "           'EEG-5': 'C5',\n",
    "           'EEG-C3': 'C3',\n",
    "           'EEG-6': 'C1',\n",
    "           'EEG-Cz': 'Cz',\n",
    "           'EEG-7': 'C2',\n",
    "           'EEG-C4': 'C4',\n",
    "           'EEG-8': 'C6',\n",
    "           'EEG-9': 'CP3',\n",
    "           'EEG-10': 'CP1',\n",
    "           'EEG-11': 'CPz',\n",
    "           'EEG-12': 'CP2',\n",
    "           'EEG-13': 'CP4',\n",
    "           'EEG-14': 'P1',\n",
    "           'EEG-Pz': 'Pz',\n",
    "           'EEG-15': 'P2',\n",
    "           'EEG-16': 'POz',\n",
    "          }\n",
    "\n",
    "mne.rename_channels(raw.info, mapping)"
   ]
  },
  {
   "cell_type": "markdown",
   "id": "e1de7771-f1c1-4f48-8978-5d1610c78705",
   "metadata": {},
   "source": [
    "Copy the signal and insert name"
   ]
  },
  {
   "cell_type": "code",
   "execution_count": null,
   "id": "d1b90992-7005-4c30-ad78-c1a9fb49c161",
   "metadata": {},
   "outputs": [],
   "source": [
    "eeg = raw.copy().pick(ch_names)"
   ]
  },
  {
   "cell_type": "markdown",
   "id": "c7ce5863-7093-4caa-b317-9a017040ffc3",
   "metadata": {},
   "source": [
    "Load EEG events and id from signal"
   ]
  },
  {
   "cell_type": "code",
   "execution_count": null,
   "id": "5b99e494-bc4c-449d-bd9f-8c11432bbe16",
   "metadata": {},
   "outputs": [],
   "source": [
    "events, event_id = mne.events_from_annotations(eeg)"
   ]
  },
  {
   "cell_type": "markdown",
   "id": "a1550866-a1e8-4bfe-9f50-103e1e9b4b72",
   "metadata": {},
   "source": [
    "Set parameters here.\n",
    "You can change start time or end time"
   ]
  },
  {
   "cell_type": "code",
   "execution_count": null,
   "id": "d7ab0109-d4c8-469d-b35a-b6ac288a2d97",
   "metadata": {},
   "outputs": [],
   "source": [
    "tmin, tmax = 0.5, 2.5\n",
    "epochs = mne.Epochs(eeg, events, event_id={'769':7, '770':8, '771':9, '772':10},\n",
    "                    tmin=tmin, tmax=tmax, baseline=None, preload=True)"
   ]
  },
  {
   "cell_type": "markdown",
   "id": "3f432fbe-93dd-4844-a298-1680b4a4dee3",
   "metadata": {},
   "source": [
    "X means input signal, and Y means output signs"
   ]
  },
  {
   "cell_type": "code",
   "execution_count": null,
   "id": "2d4d0859-c004-48b0-8e83-856277f9f271",
   "metadata": {},
   "outputs": [],
   "source": [
    "X = epochs.get_data(copy=True)\n",
    "y = epochs.events[:, -1]-7"
   ]
  },
  {
   "cell_type": "markdown",
   "id": "75d4d26f-3cc9-420b-9d2c-0cf3b34be094",
   "metadata": {},
   "source": [
    "Define dataset class"
   ]
  },
  {
   "cell_type": "code",
   "execution_count": null,
   "id": "91aab140-cc3b-4474-8f14-39162a24b8da",
   "metadata": {},
   "outputs": [],
   "source": [
    "class EEGDataset(Dataset):\n",
    "    def __init__(self, data, labels):\n",
    "        self.data = torch.tensor(data, dtype=torch.float32)\n",
    "        self.labels = torch.tensor(labels, dtype=torch.long)\n",
    "\n",
    "    def __len__(self):\n",
    "        return len(self.labels)\n",
    "\n",
    "    def __getitem__(self, idx):\n",
    "        return self.data[idx], self.labels[idx]\n"
   ]
  },
  {
   "cell_type": "markdown",
   "id": "875b579a-5f18-4215-86e6-d040b7fc9f48",
   "metadata": {},
   "source": [
    "Split dataset into training, and validation"
   ]
  },
  {
   "cell_type": "code",
   "execution_count": null,
   "id": "2103fd79-7d21-43d0-8832-8c6fe866a481",
   "metadata": {},
   "outputs": [],
   "source": [
    "from sklearn.model_selection import StratifiedShuffleSplit\n",
    "split_ratio=0.8\n",
    "splitter = StratifiedShuffleSplit(n_spits=1, test_size=1-split_ratio, random_state=42)\n",
    "\n",
    "for train_idx, val_idx in splitter.split(X, y):\n",
    "    train_dataset = X[train_idx]\n",
    "    valid_dataset = X[val_idx]\n",
    "    train_labels = y[train_idx]\n",
    "    valid_labels = y[val_idx]\n",
    "\n",
    "train_data = EEGDataset(train_dataset, train_labels)\n",
    "valid_data = EEGDataset(valid_dataset, valid_labels)\n"
   ]
  },
  {
   "cell_type": "markdown",
   "id": "2c6d98d5-298b-43a3-a262-b853504a92be",
   "metadata": {},
   "source": [
    "Load them into DataLoader"
   ]
  },
  {
   "cell_type": "code",
   "execution_count": null,
   "id": "7f4e19b7-c4ba-4a28-8886-abc712e6ab34",
   "metadata": {},
   "outputs": [],
   "source": [
    "train_loader = DataLoader(train_data, batch_size=32, shuffle=True)\n",
    "valid_loader = DataLoader(valid_data, batch_size=32, shuffle=False)"
   ]
  },
  {
   "cell_type": "markdown",
   "id": "5827622a-abbd-4632-bbba-d1e11d32b26c",
   "metadata": {},
   "source": [
    "Define EEGNet"
   ]
  },
  {
   "cell_type": "code",
   "execution_count": null,
   "id": "06067f77-260a-4c2e-95a6-9a37c51fc76a",
   "metadata": {},
   "outputs": [],
   "source": [
    "class EEGNet(nn.Module):\n",
    "    def __init__(self, nb_classes=4, Chans=22, Samples=501, dropoutRate=0.25,\n",
    "                 kernLength=63, F1=8, D=2, F2=16, dropoutType='Dropout'):\n",
    "        \n",
    "        super(EEGNet, self).__init__()\n",
    "        self.F1 = F1\n",
    "        self.D = D\n",
    "        self.F2 = F2\n",
    "        self.num_classes = nb_classes\n",
    "        self.kL = kernLength\n",
    "        \n",
    "        self.block1 = nn.Sequential(\n",
    "            nn.Conv2d(1, self.F1, (1, self.kL), padding='same', bias=False),\n",
    "            nn.BatchNorm2d(self.F1),\n",
    "            nn.Conv2d(self.F1, self.F1 * self.D, (Chans, 1), groups=self.F1, padding=0),\n",
    "            nn.BatchNorm2d(self.F1 * self.D),\n",
    "            nn.ELU(),\n",
    "            nn.AvgPool2d((1, 4)),\n",
    "            nn.Dropout(dropoutRate)\n",
    "        )\n",
    "        \n",
    "        self.block2 = nn.Sequential(\n",
    "            nn.Conv2d(self.F1 * self.D, self.F1 * self.D, (1, kernLength//4), padding='same', groups=self.F1 * self.D),\n",
    "            nn.Conv2d(self.F1 * self.D, self.F2, 1),\n",
    "            nn.BatchNorm2d(self.F2),\n",
    "            nn.ELU(),\n",
    "            nn.AvgPool2d((1, 8)),\n",
    "            nn.Dropout(dropoutRate)\n",
    "        )\n",
    "        \n",
    "        self.classifier = nn.Sequential(\n",
    "            nn.Flatten(),\n",
    "            nn.Linear(F2*(Samples // 32), nb_classes),\n",
    "            nn.Softmax(dim=1)\n",
    "        )\n",
    "    \n",
    "    def forward(self, x):\n",
    "        x = self.block1(x)\n",
    "        x = self.block2(x)\n",
    "        x = self.classifier(x)\n",
    "        return x\n"
   ]
  },
  {
   "cell_type": "markdown",
   "id": "2f21b38b-e1c7-4329-853d-0e0b79f023ac",
   "metadata": {},
   "source": [
    "Start training & Testing"
   ]
  },
  {
   "cell_type": "code",
   "execution_count": null,
   "id": "5fad6481-646b-41e3-ad02-843639cf0c4e",
   "metadata": {},
   "outputs": [],
   "source": [
    "device = torch.device(\"cuda\" if torch.cuda.is_available() else \"cpu\")\n",
    "model = EEGNet().to(device)\n",
    "optimizer = torch.optim.Adam(model.parameters(), lr=0.001)\n",
    "criterion = nn.CrossEntropyLoss()\n",
    "\n",
    "num_epochs = 500\n",
    "\n",
    "for epoch in range(num_epochs):\n",
    "    model.train()\n",
    "    running_loss = 0.0\n",
    "    correct = 0\n",
    "    total = 0\n",
    "    \n",
    "    val_correct = 0\n",
    "    val_total = 0\n",
    "    \n",
    "    for data, labels in train_loader:\n",
    "        data, labels = data.unsqueeze(1).to(device), labels.to(device)\n",
    "        optimizer.zero_grad()\n",
    "        outputs = model(data)\n",
    "        loss = criterion(outputs, labels)\n",
    "        loss.backward()\n",
    "        optimizer.step()\n",
    "        \n",
    "        running_loss += loss.item()\n",
    "        _, predicted = torch.max(outputs.data, 1)\n",
    "        total += labels.size(0)\n",
    "        correct += (predicted == labels).sum().item()\n",
    "    \n",
    "    with torch.no_grad():\n",
    "        for data, labels in valid_loader:\n",
    "            data, labels = data.unsqueeze(1).to(device), labels.to(device)\n",
    "            outputs = model(data)\n",
    "            \n",
    "            _, predicted = torch.max(outputs.data, 1)\n",
    "            val_total += labels.size(0)\n",
    "            val_correct += (predicted == labels).sum().item()\n",
    "    \n",
    "    epoch_loss = running_loss / len(train_loader)\n",
    "    epoch_acc = correct / total\n",
    "    val_acc = val_correct / val_total\n",
    "    print(f'Epoch [{epoch+1}/{num_epochs}], Loss: {epoch_loss:.4f}, Accuracy: {epoch_acc:.4f}, Validation: {val_correct} / {val_total}')\n",
    "\n",
    "print(\"Training complete.\")\n"
   ]
  }
 ],
 "metadata": {
  "kernelspec": {
   "display_name": "Python 3 (ipykernel)",
   "language": "python",
   "name": "python3"
  },
  "language_info": {
   "codemirror_mode": {
    "name": "ipython",
    "version": 3
   },
   "file_extension": ".py",
   "mimetype": "text/x-python",
   "name": "python",
   "nbconvert_exporter": "python",
   "pygments_lexer": "ipython3",
   "version": "3.11.5"
  }
 },
 "nbformat": 4,
 "nbformat_minor": 5
}
